{
 "cells": [
  {
   "cell_type": "markdown",
   "metadata": {},
   "source": [
    "# Bubble Sort\n",
    "The bubble sort iterates over a list comparing pairs of elements and swapping them if they are in the wrong order. Requires directly comparable elements.\n",
    "\n",
    "The simplest bubble sort checks ..."
   ]
  },
  {
   "cell_type": "code",
   "execution_count": 12,
   "metadata": {},
   "outputs": [
    {
     "name": "stdout",
     "output_type": "stream",
     "text": [
      "swapping b and a\n",
      "['e', 'd', 'c', 'a', 'b']\n",
      "swapping c and a\n",
      "['e', 'd', 'a', 'c', 'b']\n",
      "swapping d and a\n",
      "['e', 'a', 'd', 'c', 'b']\n",
      "swapping e and a\n",
      "['a', 'e', 'd', 'c', 'b']\n",
      "swapping b and a\n",
      "['b', 'e', 'd', 'c', 'a']\n",
      "swapping c and a\n",
      "['b', 'e', 'd', 'a', 'c']\n",
      "swapping d and a\n",
      "['b', 'e', 'a', 'd', 'c']\n",
      "swapping e and a\n",
      "['b', 'a', 'e', 'd', 'c']\n",
      "swapping b and a\n",
      "['a', 'b', 'e', 'd', 'c']\n",
      "swapping c and a\n",
      "['c', 'b', 'e', 'd', 'a']\n",
      "swapping d and a\n",
      "['c', 'b', 'e', 'a', 'd']\n",
      "swapping e and a\n",
      "['c', 'b', 'a', 'e', 'd']\n",
      "swapping b and a\n",
      "['c', 'a', 'b', 'e', 'd']\n",
      "swapping c and a\n",
      "['a', 'c', 'b', 'e', 'd']\n",
      "swapping d and a\n",
      "['d', 'c', 'b', 'e', 'a']\n",
      "swapping e and a\n",
      "['d', 'c', 'b', 'a', 'e']\n",
      "swapping b and a\n",
      "['d', 'c', 'a', 'b', 'e']\n",
      "swapping c and a\n",
      "['d', 'a', 'c', 'b', 'e']\n",
      "swapping d and a\n",
      "['a', 'd', 'c', 'b', 'e']\n",
      "swapping e and a\n",
      "['e', 'd', 'c', 'b', 'a']\n",
      "['e', 'd', 'c', 'b', 'a']\n"
     ]
    }
   ],
   "source": [
    "def bubbleSortSimple(listToSort):\n",
    "    n = len(listToSort)\n",
    "    #print('n',n)\n",
    "    for i in range(1,n):\n",
    "        #print('i',i)\n",
    "        for j in range(n-1,-1,-1):\n",
    "            #print('j',j)\n",
    "            if listToSort[j-1] > listToSort[j]:\n",
    "                print('swapping',listToSort[j-1],'and',listToSort[j])\n",
    "                tmp = listToSort[j-1]\n",
    "                listToSort[j-1] = listToSort[j]\n",
    "                listToSort[j] = tmp\n",
    "            print(listToSort)\n",
    "    return listToSort\n",
    "            \n",
    "#print(bubbleSortSimple(['a','b','c','d','e']))\n",
    "print(bubbleSortSimple(['e','d','c','b','a']))"
   ]
  },
  {
   "cell_type": "code",
   "execution_count": null,
   "metadata": {},
   "outputs": [],
   "source": [
    "procedure bubbleSort(A : list of sortable items )\n",
    "    n = length(A)\n",
    "    for i = 1 to n-1 inclusive do\n",
    "       for j = n-1 downto 0 inclusive do\n",
    "            /* if this pair is out of order */\n",
    "            if A[j-1] > A[j] then\n",
    "                /* swap them */\n",
    "                swap( A[j-1], A[j] )\n",
    "            end if\n",
    "        end for\n",
    "    end for\n",
    "end procedure"
   ]
  }
 ],
 "metadata": {
  "kernelspec": {
   "display_name": "Python 3",
   "language": "python",
   "name": "python3"
  },
  "language_info": {
   "codemirror_mode": {
    "name": "ipython",
    "version": 3
   },
   "file_extension": ".py",
   "mimetype": "text/x-python",
   "name": "python",
   "nbconvert_exporter": "python",
   "pygments_lexer": "ipython3",
   "version": "3.7.1"
  }
 },
 "nbformat": 4,
 "nbformat_minor": 2
}
