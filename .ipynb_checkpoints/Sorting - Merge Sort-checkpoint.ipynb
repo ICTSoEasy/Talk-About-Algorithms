{
 "cells": [
  {
   "cell_type": "markdown",
   "metadata": {},
   "source": [
    "# Sorting - Merge Sort\n",
    "The merge sort is a (normally recursive) algorithm which uses the divide and conquer technique to break a list into sub-lists until each list is one element, and then merges each list into new ordered lists, two at a time, until a single sorted list is left.\n",
    "\n",
    "This example is a top-down list implementation which recursively divides the input list into single lists then merges the sublists while returning up the call chain."
   ]
  },
  {
   "cell_type": "code",
   "execution_count": null,
   "metadata": {},
   "outputs": [],
   "source": [
    "def merge_sort(listToSort):\n",
    "    print('Splitting ',end='')\n",
    "    print(listToSort)\n",
    "    #Base case - 0/1 elements is sorted\n",
    "    if len(listToSort) <= 1:\n",
    "        return listToSort\n",
    "    \n",
    "    #Recursive case: Divide list into equal-sized lists (first and second half)\n",
    "    #Note: Alternative split by slicing is possible but more Python-specific.\n",
    "    left = []\n",
    "    right = []\n",
    "    for i in range(len(listToSort)):\n",
    "        if i < (len(listToSort)/2):\n",
    "            left.append(listToSort[i])\n",
    "        else:\n",
    "            right.append(listToSort[i])\n",
    "            \n",
    "    #Recursively sort both sublists\n",
    "    print('Came up with: ',end='')\n",
    "    print('Left: ',end='')\n",
    "    print(left,end=' and ')\n",
    "    print('Right: ',end='')\n",
    "    print(right)\n",
    "    left = merge_sort(left)\n",
    "    right = merge_sort(right)\n",
    "    #Merge the now-sorted sublists\n",
    "    return merge(left,right)"
   ]
  },
  {
   "cell_type": "code",
   "execution_count": null,
   "metadata": {},
   "outputs": [],
   "source": [
    "#Merge merges two lists\n",
    "def merge(left,right):\n",
    "    print('Merging ',end='')\n",
    "    print(left,end=' and ')\n",
    "    print(right)\n",
    "    result = []\n",
    "    #While the lists have content, pop of the lowest start point\n",
    "    while left != [] and right != []:\n",
    "        if left[0] <= right[0]:\n",
    "            result.append(left.pop(0))\n",
    "        else:\n",
    "            result.append(right.pop(0))\n",
    "    #Add on the remaining list\n",
    "    result = result + left + right\n",
    "    print('Returning ',end='')\n",
    "    print(result)\n",
    "    return result"
   ]
  },
  {
   "cell_type": "code",
   "execution_count": null,
   "metadata": {},
   "outputs": [],
   "source": [
    "myList = ['f','g','d','c','a','b','e']\n",
    "print(merge_sort(myList))"
   ]
  },
  {
   "cell_type": "markdown",
   "metadata": {},
   "source": [
    "Other flavours of merge sort are available."
   ]
  }
 ],
 "metadata": {
  "kernelspec": {
   "display_name": "Python 3",
   "language": "python",
   "name": "python3"
  },
  "language_info": {
   "codemirror_mode": {
    "name": "ipython",
    "version": 3
   },
   "file_extension": ".py",
   "mimetype": "text/x-python",
   "name": "python",
   "nbconvert_exporter": "python",
   "pygments_lexer": "ipython3",
   "version": "3.7.1"
  }
 },
 "nbformat": 4,
 "nbformat_minor": 2
}
