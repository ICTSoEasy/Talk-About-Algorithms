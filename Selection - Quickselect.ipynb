{
 "cells": [
  {
   "cell_type": "markdown",
   "metadata": {},
   "source": [
    "# Selection - Quickselect\n",
    "Quickselect partially sorts the input data to select the nth smallest element. This implementation is based on code from [KoderDojo](https://www.koderdojo.com/blog/quickselect-algorithm-in-python) although reimplemented in a way I found easier to understand.\n",
    "\n",
    "The partition function recursively splits the list around an index into elements smaller that the pivot and more than/equal to the pivot"
   ]
  },
  {
   "cell_type": "code",
   "execution_count": null,
   "metadata": {},
   "outputs": [],
   "source": [
    "import random\n",
    "def partition(listToPartition,left,right,index):\n",
    "    if right == left: #single element list\n",
    "        return listToPartition[left]\n",
    "    pivotIndex = random.randint(left,right) #Random pivot \n",
    "    listToPartition[left],listToPartition[pivotIndex] = listToPartition[pivotIndex],listToPartition[left]\n",
    "                                        #Move pivot to begining of list\n",
    "    i = left\n",
    "    for j in range(left+1,right+1):\n",
    "        if listToPartition[j] < listToPartition[left]: \n",
    "            i += 1\n",
    "            listToPartition[i],listToPartition[j] = listToPartition[j],listToPartition[i] #Swap\n",
    "    listToPartition[i],listToPartition[left] = listToPartition[left],listToPartition[i]\n",
    "                                        #Move pivot to correct location\n",
    "    if index == i:\n",
    "        return listToPartition[i]\n",
    "    elif index < i:\n",
    "        return partition(listToPartition,left,i-1,index)\n",
    "    else:\n",
    "        return partition(listToPartition,i+1,right,index)"
   ]
  },
  {
   "cell_type": "markdown",
   "metadata": {},
   "source": [
    "The quickselect function then calls this function to get the kth smallest element."
   ]
  },
  {
   "cell_type": "code",
   "execution_count": null,
   "metadata": {},
   "outputs": [],
   "source": [
    "def quickSelect(items,item_index):\n",
    "    if items is None or len(items) < 1:\n",
    "        return None\n",
    "    if item_index < 0 or item_index > len(items) - 1:\n",
    "        raise IndexError()\n",
    "    return partition(items,0,len(items)-1,item_index)"
   ]
  },
  {
   "cell_type": "code",
   "execution_count": null,
   "metadata": {},
   "outputs": [],
   "source": [
    "myItems = [3,45,1,4,9,19,200]\n",
    "k=2\n",
    "print('The kth smallest element is:',quickSelect(myItems,3))\n",
    "myItems.sort()\n",
    "print('The list sorted is:',myItems)"
   ]
  }
 ],
 "metadata": {
  "kernelspec": {
   "display_name": "Python 3",
   "language": "python",
   "name": "python3"
  },
  "language_info": {
   "codemirror_mode": {
    "name": "ipython",
    "version": 3
   },
   "file_extension": ".py",
   "mimetype": "text/x-python",
   "name": "python",
   "nbconvert_exporter": "python",
   "pygments_lexer": "ipython3",
   "version": "3.7.1"
  }
 },
 "nbformat": 4,
 "nbformat_minor": 2
}
