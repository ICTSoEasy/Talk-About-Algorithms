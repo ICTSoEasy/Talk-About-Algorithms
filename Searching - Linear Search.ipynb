{
 "cells": [
  {
   "cell_type": "markdown",
   "metadata": {},
   "source": [
    "# Searching - The Linear Search\n",
    "The linear search is possibly one of the simplest algorithms you will hear of. It takes a list of data and searches one element at a time starting at the start and moving through linearly.\n",
    "\n",
    "The simplest version will search for an element in a list and return whether it is present or not."
   ]
  },
  {
   "cell_type": "code",
   "execution_count": null,
   "metadata": {},
   "outputs": [],
   "source": [
    "def linearSearchBoolean(searchFor,searchList):\n",
    "    for item in searchList:\n",
    "        if searchFor == item:\n",
    "            return True\n",
    "    return False\n",
    "\n",
    "myItems = ['red','blue','green','orange']\n",
    "print(linearSearchBoolean('green',myItems))\n",
    "print(linearSearchBoolean('yellow',myItems))"
   ]
  },
  {
   "cell_type": "markdown",
   "metadata": {},
   "source": [
    "A slightly more advanced version means a more manual loop but can instead return the position an element is found in. While we could potentially return False if the element is not found, it could be safer to return -1 so as not to confused items in element 0 with False."
   ]
  },
  {
   "cell_type": "code",
   "execution_count": null,
   "metadata": {},
   "outputs": [],
   "source": [
    "def linearSearchPosition(searchFor,searchList):\n",
    "    for i in range(len(searchList)):\n",
    "        if searchFor == searchList[i]:\n",
    "            return i\n",
    "    return -1\n",
    "\n",
    "myItems = ['red','blue','green','orange']\n",
    "print(linearSearchPosition('green',myItems))\n",
    "print(linearSearchPosition('yellow',myItems))"
   ]
  }
 ],
 "metadata": {
  "kernelspec": {
   "display_name": "Python 3",
   "language": "python",
   "name": "python3"
  },
  "language_info": {
   "codemirror_mode": {
    "name": "ipython",
    "version": 3
   },
   "file_extension": ".py",
   "mimetype": "text/x-python",
   "name": "python",
   "nbconvert_exporter": "python",
   "pygments_lexer": "ipython3",
   "version": "3.7.1"
  }
 },
 "nbformat": 4,
 "nbformat_minor": 2
}
