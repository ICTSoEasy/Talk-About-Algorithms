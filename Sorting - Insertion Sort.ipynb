{
 "cells": [
  {
   "cell_type": "markdown",
   "metadata": {},
   "source": [
    "# Sorting - Insertion Sort\n",
    "The insertion sort is expensive for large data sets, it iterates over each piece of data an inserts it into the right place.\n",
    "\n",
    "This method is purely iterative:"
   ]
  },
  {
   "cell_type": "code",
   "execution_count": null,
   "metadata": {},
   "outputs": [],
   "source": [
    "def insertionSort(listToSort):\n",
    "    i = 1\n",
    "    while i < len(listToSort):\n",
    "        x = listToSort[i]\n",
    "        j = i - 1\n",
    "        while j >= 0 and listToSort[j] > x:\n",
    "            listToSort[j+1] = listToSort[j]\n",
    "            j = j - 1\n",
    "            print('Inner loop:',listToSort)\n",
    "        listToSort[j+1] = x\n",
    "        i = i + 1\n",
    "        print('Outer loop:',listToSort)\n",
    "    return listToSort"
   ]
  },
  {
   "cell_type": "code",
   "execution_count": null,
   "metadata": {},
   "outputs": [],
   "source": [
    "myList = ['f','e','v','c']\n",
    "print(insertionSort(myList))"
   ]
  },
  {
   "cell_type": "markdown",
   "metadata": {},
   "source": [
    "This version replaces the outer loop with a recursive call:"
   ]
  },
  {
   "cell_type": "code",
   "execution_count": null,
   "metadata": {},
   "outputs": [],
   "source": [
    "def insertionSortRecursive(listToSort,n):\n",
    "    if n > 0:\n",
    "        insertionSortRecursive(listToSort,n-1)\n",
    "        x = listToSort[n]\n",
    "        j = n-1\n",
    "        while j >= 0 and listToSort[j] > x:\n",
    "            listToSort[j+1] = listToSort[j]\n",
    "            j = j - 1\n",
    "        listToSort[j+1] = x\n",
    "    return listToSort"
   ]
  },
  {
   "cell_type": "markdown",
   "metadata": {},
   "source": [
    "This version is called with the list to be sorted, and the length of the list - 1."
   ]
  },
  {
   "cell_type": "code",
   "execution_count": null,
   "metadata": {},
   "outputs": [],
   "source": [
    "print(insertionSortRecursive(myList,3))"
   ]
  },
  {
   "cell_type": "markdown",
   "metadata": {},
   "source": [
    "This version is slightly easier to use, setting the n parameter on the first run."
   ]
  },
  {
   "cell_type": "code",
   "execution_count": null,
   "metadata": {},
   "outputs": [],
   "source": [
    "def insertionSortRecursiveEasier(listToSort,n=None):\n",
    "    if n == None:\n",
    "        n = len(listToSort) - 1\n",
    "    if n > 0:\n",
    "        insertionSortRecursiveEasier(listToSort,n-1)\n",
    "        x = listToSort[n]\n",
    "        j = n-1\n",
    "        while j >= 0 and listToSort[j] > x:\n",
    "            listToSort[j+1] = listToSort[j]\n",
    "            j = j - 1\n",
    "        listToSort[j+1] = x\n",
    "    return listToSort"
   ]
  },
  {
   "cell_type": "code",
   "execution_count": null,
   "metadata": {},
   "outputs": [],
   "source": [
    "print(insertionSortRecursiveEasier(myList))"
   ]
  }
 ],
 "metadata": {
  "kernelspec": {
   "display_name": "Python 3",
   "language": "python",
   "name": "python3"
  },
  "language_info": {
   "codemirror_mode": {
    "name": "ipython",
    "version": 3
   },
   "file_extension": ".py",
   "mimetype": "text/x-python",
   "name": "python",
   "nbconvert_exporter": "python",
   "pygments_lexer": "ipython3",
   "version": "3.7.1"
  }
 },
 "nbformat": 4,
 "nbformat_minor": 2
}
