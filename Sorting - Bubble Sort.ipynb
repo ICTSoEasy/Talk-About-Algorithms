{
 "cells": [
  {
   "cell_type": "markdown",
   "metadata": {},
   "source": [
    "# Bubble Sort\n",
    "The bubble sort iterates over a list comparing pairs of elements and swapping them if they are in the wrong order. Requires directly comparable elements.\n",
    "\n",
    "The simplest bubble sort iterates n-1 times, and within each loop checks each pair (so again n-1)."
   ]
  },
  {
   "cell_type": "code",
   "execution_count": null,
   "metadata": {},
   "outputs": [],
   "source": [
    "def bubbleSortSimple(listToSort):\n",
    "    n = len(listToSort)\n",
    "    for i in range(1,n):\n",
    "        print('i loop',i,end=' ')\n",
    "        print(listToSort)\n",
    "        for j in range(n-1,0,-1):\n",
    "            print('j loop',j,end=' ')\n",
    "            print(listToSort)\n",
    "            if listToSort[j-1] > listToSort[j]:\n",
    "                print('swapping',listToSort[j-1],'and',listToSort[j],'(',j-1,',',j,')')\n",
    "                tmp = listToSort[j-1]\n",
    "                listToSort[j-1] = listToSort[j]\n",
    "                listToSort[j] = tmp\n",
    "                print('Changed list is ',end=' ')\n",
    "                print(listToSort)\n",
    "    return listToSort"
   ]
  },
  {
   "cell_type": "code",
   "execution_count": null,
   "metadata": {},
   "outputs": [],
   "source": [
    "print(bubbleSortSimple(['e','d','c','b','a']))"
   ]
  },
  {
   "cell_type": "markdown",
   "metadata": {},
   "source": [
    "A more advanced bubble sort will keep a flag and if, after a full iteration no swaps have happened, the process is cut short."
   ]
  },
  {
   "cell_type": "code",
   "execution_count": null,
   "metadata": {},
   "outputs": [],
   "source": [
    "def bubbleSortAdvanced(listToSort):\n",
    "    n = len(listToSort)\n",
    "    while True:\n",
    "        swapped = False\n",
    "        for i in range (1,n):\n",
    "            if listToSort[i-1] > listToSort[i]:\n",
    "                print('swapping',listToSort[i-1],'and',listToSort[i],'(',i-1,',',i,')')\n",
    "                swapped = True\n",
    "                tmp = listToSort[i-1]\n",
    "                listToSort[i-1] = listToSort[i]\n",
    "                listToSort[i] = tmp\n",
    "                print('Changed list is ',end=' ')\n",
    "                print(listToSort)\n",
    "        if not swapped:\n",
    "            break\n",
    "    return listToSort"
   ]
  },
  {
   "cell_type": "code",
   "execution_count": null,
   "metadata": {},
   "outputs": [],
   "source": [
    "print(bubbleSortAdvanced(['e','d','c','b','a']))"
   ]
  },
  {
   "cell_type": "markdown",
   "metadata": {},
   "source": [
    "A more efficient algorithm takes into account the point that once sorted all elements after the last swap are sorted."
   ]
  },
  {
   "cell_type": "code",
   "execution_count": null,
   "metadata": {},
   "outputs": [],
   "source": [
    "def bubbleSortEfficient(listToSort):\n",
    "    n = len(listToSort)\n",
    "    while True:\n",
    "        newn = 0\n",
    "        for i in range(1,n):\n",
    "            if listToSort[i-1] > listToSort[i]:\n",
    "                print('swapping',listToSort[i-1],'and',listToSort[i],'(',i-1,',',i,')')\n",
    "                newn = i\n",
    "                tmp = listToSort[i-1]\n",
    "                listToSort[i-1] = listToSort[i]\n",
    "                listToSort[i] = tmp\n",
    "                print('Changed list is ',end=' ')\n",
    "                print(listToSort)\n",
    "        n = newn\n",
    "    if n <= 1:\n",
    "        break"
   ]
  },
  {
   "cell_type": "code",
   "execution_count": null,
   "metadata": {},
   "outputs": [],
   "source": [
    "print(bubbleSortEfficient(['e','d','c','b','a']))"
   ]
  },
  {
   "cell_type": "code",
   "execution_count": null,
   "metadata": {},
   "outputs": [],
   "source": [
    "print(bubbleSortEfficient(['a','b','d','c','e']))"
   ]
  }
 ],
 "metadata": {
  "kernelspec": {
   "display_name": "Python 3",
   "language": "python",
   "name": "python3"
  },
  "language_info": {
   "codemirror_mode": {
    "name": "ipython",
    "version": 3
   },
   "file_extension": ".py",
   "mimetype": "text/x-python",
   "name": "python",
   "nbconvert_exporter": "python",
   "pygments_lexer": "ipython3",
   "version": "3.7.1"
  }
 },
 "nbformat": 4,
 "nbformat_minor": 2
}
