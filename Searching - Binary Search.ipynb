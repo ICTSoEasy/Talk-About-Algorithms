{
 "cells": [
  {
   "cell_type": "markdown",
   "metadata": {},
   "source": [
    "# Searching - Binary Search\n",
    "The binary search uses a divide and conquer approach to search a sorted list of data. The mid-point is checked and if the searched term is not found, the un-needed half of the list is discarded.\n",
    "\n",
    "This implementation keeps track of the left and right indexes using lIndex and rIndex, uses an iterative approach and returns the index number of the element found, -1 if it is not found. mIndex is the mid-point, rounded down using integer division (//). Elements are assumed to be directly comparable."
   ]
  },
  {
   "cell_type": "code",
   "execution_count": null,
   "metadata": {},
   "outputs": [],
   "source": [
    "def binarySearch(searchFor,searchList):\n",
    "    lIndex = 0 #Initialise left index\n",
    "    rIndex = len(searchList)-1\n",
    "    while lIndex <= rIndex:\n",
    "        mIndex = (lIndex+rIndex) // 2\n",
    "        if searchList[mIndex] < searchFor:\n",
    "            lIndex = mIndex + 1\n",
    "        elif searchList[mIndex] > searchFor:\n",
    "            rIndex = mIndex - 1\n",
    "        else:\n",
    "            return mIndex\n",
    "    return -1\n",
    "\n",
    "listOfData = [1,2,3,4,5,6,7,8,9]\n",
    "print(binarySearch(3,listOfData))\n",
    "print(binarySearch(1,listOfData))\n",
    "print(binarySearch(93,listOfData))"
   ]
  }
 ],
 "metadata": {
  "kernelspec": {
   "display_name": "Python 3",
   "language": "python",
   "name": "python3"
  },
  "language_info": {
   "codemirror_mode": {
    "name": "ipython",
    "version": 3
   },
   "file_extension": ".py",
   "mimetype": "text/x-python",
   "name": "python",
   "nbconvert_exporter": "python",
   "pygments_lexer": "ipython3",
   "version": "3.7.1"
  }
 },
 "nbformat": 4,
 "nbformat_minor": 2
}
